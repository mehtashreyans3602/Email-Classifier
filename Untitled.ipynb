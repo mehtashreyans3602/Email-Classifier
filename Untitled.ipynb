{
 "cells": [
  {
   "cell_type": "markdown",
   "id": "a62cab08",
   "metadata": {},
   "source": [
    "Import Libraries"
   ]
  },
  {
   "cell_type": "code",
   "execution_count": null,
   "id": "969f432a",
   "metadata": {},
   "outputs": [],
   "source": [
    "import pandas as pd\n",
    "from sklearn.feature_extraction.text import CountVectorizer\n",
    "from sklearn.naive_bayes import MultinomialNB\n",
    "from sklearn.metrics import accuracy_score"
   ]
  },
  {
   "cell_type": "markdown",
   "id": "5348834a",
   "metadata": {},
   "source": [
    "Load the dataset"
   ]
  },
  {
   "cell_type": "code",
   "execution_count": null,
   "id": "949cd53e",
   "metadata": {
    "scrolled": true
   },
   "outputs": [],
   "source": [
    "data = pd.read_csv(r'spam.csv')"
   ]
  },
  {
   "cell_type": "markdown",
   "id": "e983d9d0",
   "metadata": {},
   "source": [
    "Split the data into features (email text) and labels (spam or not)"
   ]
  },
  {
   "cell_type": "code",
   "execution_count": null,
   "id": "87aecf4b",
   "metadata": {},
   "outputs": [],
   "source": [
    "X = data['Message']\n",
    "y = data['Category']"
   ]
  },
  {
   "cell_type": "markdown",
   "id": "0561aa3c",
   "metadata": {},
   "source": [
    "Vectorize the email text"
   ]
  },
  {
   "cell_type": "code",
   "execution_count": null,
   "id": "ed0821c7",
   "metadata": {},
   "outputs": [],
   "source": [
    "vectorizer = CountVectorizer()\n",
    "X = vectorizer.fit_transform(X)"
   ]
  },
  {
   "cell_type": "markdown",
   "id": "27b0f0f5",
   "metadata": {},
   "source": [
    "Train the Naive Bayes classifier"
   ]
  },
  {
   "cell_type": "code",
   "execution_count": null,
   "id": "4ff520c1",
   "metadata": {},
   "outputs": [],
   "source": [
    "classifier = MultinomialNB()\n",
    "classifier.fit(X, y)"
   ]
  },
  {
   "cell_type": "markdown",
   "id": "b8e4e697",
   "metadata": {},
   "source": [
    "Make predictions on the training set"
   ]
  },
  {
   "cell_type": "code",
   "execution_count": null,
   "id": "16a6ef1e",
   "metadata": {},
   "outputs": [],
   "source": [
    "y_pred = classifier.predict(X)"
   ]
  },
  {
   "cell_type": "markdown",
   "id": "a8ab8786",
   "metadata": {},
   "source": [
    "Calculate training accuracy"
   ]
  },
  {
   "cell_type": "code",
   "execution_count": null,
   "id": "754891c3",
   "metadata": {},
   "outputs": [],
   "source": [
    "accuracy = accuracy_score(y, y_pred)\n",
    "print(\"Training Accuracy:\", (accuracy*100))"
   ]
  },
  {
   "cell_type": "markdown",
   "id": "eb36dc5b",
   "metadata": {},
   "source": [
    "Input an email message"
   ]
  },
  {
   "cell_type": "code",
   "execution_count": null,
   "id": "4e5332a7",
   "metadata": {},
   "outputs": [],
   "source": [
    "email = input(\"Enter the email message: \")"
   ]
  },
  {
   "cell_type": "markdown",
   "id": "4155736e",
   "metadata": {},
   "source": [
    "Vectorize the email message"
   ]
  },
  {
   "cell_type": "code",
   "execution_count": null,
   "id": "cd9e61d4",
   "metadata": {},
   "outputs": [],
   "source": [
    "\n",
    "email_vector = vectorizer.transform([email])"
   ]
  },
  {
   "cell_type": "markdown",
   "id": "1d321c42",
   "metadata": {},
   "source": [
    "Predict the category (spam or not)"
   ]
  },
  {
   "cell_type": "code",
   "execution_count": null,
   "id": "81c5002d",
   "metadata": {},
   "outputs": [],
   "source": [
    "\n",
    "prediction = classifier.predict(email_vector)"
   ]
  },
  {
   "cell_type": "code",
   "execution_count": null,
   "id": "7fdedb9a",
   "metadata": {},
   "outputs": [],
   "source": [
    "print(prediction)"
   ]
  }
 ],
 "metadata": {
  "kernelspec": {
   "display_name": "Python 3 (ipykernel)",
   "language": "python",
   "name": "python3"
  },
  "language_info": {
   "codemirror_mode": {
    "name": "ipython",
    "version": 3
   },
   "file_extension": ".py",
   "mimetype": "text/x-python",
   "name": "python",
   "nbconvert_exporter": "python",
   "pygments_lexer": "ipython3",
   "version": "3.10.9"
  }
 },
 "nbformat": 4,
 "nbformat_minor": 5
}
